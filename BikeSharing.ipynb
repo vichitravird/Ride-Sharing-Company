{
 "cells": [
  {
   "cell_type": "code",
   "execution_count": 2,
   "id": "d21fcf60",
   "metadata": {},
   "outputs": [],
   "source": [
    "# Run this code to set up the necessary libraries\n",
    "# Necessary for both part 1 and part 2\n",
    "%matplotlib inline \n",
    "import numpy as np\n",
    "import pandas as pd\n",
    "import sklearn\n",
    "import matplotlib.pyplot as plt\n",
    "import seaborn as sns\n",
    "\n",
    "import warnings\n",
    "warnings.filterwarnings('ignore')"
   ]
  },
  {
   "cell_type": "markdown",
   "id": "9a784d4e",
   "metadata": {},
   "source": [
    "## Part 1 - Bike Sharing\n",
    "\n",
    "### Meet the Data and the Setting\n",
    "\n",
    "##### Background  \n",
    "Bike sharing systems are new generation of traditional bike rentals where the whole process from membership, rental and return has become automatic.  Currently, there are over 500 bike-sharing programs around the world which is composed of over 500 thousands bicycles.\n",
    "\n",
    "##### The Dataset\n",
    "\n",
    "We will be using the daily version of the Capital Bikeshare System dataset. This data set contains information about the daily count of bike rental checkouts in Washington, D.C.’s bikeshare program between 2011 and 2012. It also includes information about the weather and seasonal/temporal features for that day (like whether it was a weekday).\n",
    "- **day:** Day of the record (relative to day 1:2011-01-01)\n",
    "- **season:** Season (1:spring, 2:summer, 3:fall, 4:winter)\n",
    "- **weekday:** Day of the week (0=Sunday, 6=Saturday)\n",
    "- **workingday:** If day is neither on a weekend nor a holiday this is 1, otherwise this is 0.\n",
    "- **weathersit:**<br>\n",
    "    - 1: Clear, Few clouds, Partly cloudy, Partly cloudy\n",
    "    - 2: Mist + Cloudy, Mist + Broken clouds, Mist + Few clouds, Mist\n",
    "    - 3: Light Snow, Light Rain + Thunderstorm + Scattered clouds, Light Rain + Scattered clouds\n",
    "- **temp:** Normalized temperature in Celcius\n",
    "- **windspeed:** Normalized wind speed\n",
    "- **casual:** Count of checkouts by casual/non-registered users\n",
    "- **registered:** Count of checkouts by registered users\n",
    "- **cnt:** Total checkouts"
   ]
  },
  {
   "cell_type": "code",
   "execution_count": 3,
   "id": "3ccef059",
   "metadata": {},
   "outputs": [],
   "source": [
    "# Run this code to import the data\n",
    "import pandas as pd\n",
    "daily_1 = pd.read_csv(\"daily-checkouts-1.csv\")\n",
    "daily_2 = pd.read_csv(\"daily-checkouts-2.csv\")"
   ]
  },
  {
   "cell_type": "markdown",
   "id": "7c9e92aa",
   "metadata": {},
   "source": [
    "### Data Preparation\n",
    "**Question 1: Putting the Data Together** \n",
    "\n",
    "We have two datasets - one for the year 2011 and another for the year 2012. We would like to put the two datasets together.\n",
    "\n",
    "- First check consistency of the two datasets. Print the first 8 records of daily_1 and daily_2, correspodingly.\n",
    "- Obtain and report the column names of daily_1 and daily_2. Are the names the same for the two datasets?\n",
    "- Create a new dataframe, daily_concat, which is the concatenation of daily_1 and daily_2. "
   ]
  },
  {
   "cell_type": "code",
   "execution_count": 4,
   "id": "995f2c69",
   "metadata": {},
   "outputs": [
    {
     "data": {
      "text/html": [
       "<div>\n",
       "<style scoped>\n",
       "    .dataframe tbody tr th:only-of-type {\n",
       "        vertical-align: middle;\n",
       "    }\n",
       "\n",
       "    .dataframe tbody tr th {\n",
       "        vertical-align: top;\n",
       "    }\n",
       "\n",
       "    .dataframe thead th {\n",
       "        text-align: right;\n",
       "    }\n",
       "</style>\n",
       "<table border=\"1\" class=\"dataframe\">\n",
       "  <thead>\n",
       "    <tr style=\"text-align: right;\">\n",
       "      <th></th>\n",
       "      <th>day</th>\n",
       "      <th>season</th>\n",
       "      <th>weekday</th>\n",
       "      <th>workingday</th>\n",
       "      <th>weathersit</th>\n",
       "      <th>temp</th>\n",
       "      <th>windspeed</th>\n",
       "      <th>casual</th>\n",
       "      <th>registered</th>\n",
       "      <th>cnt</th>\n",
       "      <th>year</th>\n",
       "    </tr>\n",
       "  </thead>\n",
       "  <tbody>\n",
       "    <tr>\n",
       "      <th>0</th>\n",
       "      <td>1</td>\n",
       "      <td>1</td>\n",
       "      <td>6</td>\n",
       "      <td>0</td>\n",
       "      <td>2</td>\n",
       "      <td>0.344167</td>\n",
       "      <td>0.160446</td>\n",
       "      <td>331</td>\n",
       "      <td>654</td>\n",
       "      <td>985</td>\n",
       "      <td>2011</td>\n",
       "    </tr>\n",
       "    <tr>\n",
       "      <th>1</th>\n",
       "      <td>2</td>\n",
       "      <td>1</td>\n",
       "      <td>0</td>\n",
       "      <td>0</td>\n",
       "      <td>2</td>\n",
       "      <td>0.363478</td>\n",
       "      <td>0.248539</td>\n",
       "      <td>131</td>\n",
       "      <td>670</td>\n",
       "      <td>801</td>\n",
       "      <td>2011</td>\n",
       "    </tr>\n",
       "    <tr>\n",
       "      <th>2</th>\n",
       "      <td>3</td>\n",
       "      <td>1</td>\n",
       "      <td>1</td>\n",
       "      <td>1</td>\n",
       "      <td>1</td>\n",
       "      <td>0.196364</td>\n",
       "      <td>0.248309</td>\n",
       "      <td>120</td>\n",
       "      <td>1229</td>\n",
       "      <td>1349</td>\n",
       "      <td>2011</td>\n",
       "    </tr>\n",
       "    <tr>\n",
       "      <th>3</th>\n",
       "      <td>4</td>\n",
       "      <td>1</td>\n",
       "      <td>2</td>\n",
       "      <td>1</td>\n",
       "      <td>1</td>\n",
       "      <td>0.200000</td>\n",
       "      <td>0.160296</td>\n",
       "      <td>108</td>\n",
       "      <td>1454</td>\n",
       "      <td>1562</td>\n",
       "      <td>2011</td>\n",
       "    </tr>\n",
       "    <tr>\n",
       "      <th>4</th>\n",
       "      <td>5</td>\n",
       "      <td>1</td>\n",
       "      <td>3</td>\n",
       "      <td>1</td>\n",
       "      <td>1</td>\n",
       "      <td>0.226957</td>\n",
       "      <td>0.186900</td>\n",
       "      <td>82</td>\n",
       "      <td>1518</td>\n",
       "      <td>1600</td>\n",
       "      <td>2011</td>\n",
       "    </tr>\n",
       "    <tr>\n",
       "      <th>5</th>\n",
       "      <td>6</td>\n",
       "      <td>1</td>\n",
       "      <td>4</td>\n",
       "      <td>1</td>\n",
       "      <td>1</td>\n",
       "      <td>0.204348</td>\n",
       "      <td>0.089565</td>\n",
       "      <td>88</td>\n",
       "      <td>1518</td>\n",
       "      <td>1606</td>\n",
       "      <td>2011</td>\n",
       "    </tr>\n",
       "    <tr>\n",
       "      <th>6</th>\n",
       "      <td>7</td>\n",
       "      <td>1</td>\n",
       "      <td>5</td>\n",
       "      <td>1</td>\n",
       "      <td>2</td>\n",
       "      <td>0.196522</td>\n",
       "      <td>0.168726</td>\n",
       "      <td>148</td>\n",
       "      <td>1362</td>\n",
       "      <td>1510</td>\n",
       "      <td>2011</td>\n",
       "    </tr>\n",
       "    <tr>\n",
       "      <th>7</th>\n",
       "      <td>8</td>\n",
       "      <td>1</td>\n",
       "      <td>6</td>\n",
       "      <td>0</td>\n",
       "      <td>2</td>\n",
       "      <td>0.165000</td>\n",
       "      <td>0.266804</td>\n",
       "      <td>68</td>\n",
       "      <td>891</td>\n",
       "      <td>959</td>\n",
       "      <td>2011</td>\n",
       "    </tr>\n",
       "  </tbody>\n",
       "</table>\n",
       "</div>"
      ],
      "text/plain": [
       "   day  season  weekday  workingday  weathersit      temp  windspeed  casual  \\\n",
       "0    1       1        6           0           2  0.344167   0.160446     331   \n",
       "1    2       1        0           0           2  0.363478   0.248539     131   \n",
       "2    3       1        1           1           1  0.196364   0.248309     120   \n",
       "3    4       1        2           1           1  0.200000   0.160296     108   \n",
       "4    5       1        3           1           1  0.226957   0.186900      82   \n",
       "5    6       1        4           1           1  0.204348   0.089565      88   \n",
       "6    7       1        5           1           2  0.196522   0.168726     148   \n",
       "7    8       1        6           0           2  0.165000   0.266804      68   \n",
       "\n",
       "   registered   cnt  year  \n",
       "0         654   985  2011  \n",
       "1         670   801  2011  \n",
       "2        1229  1349  2011  \n",
       "3        1454  1562  2011  \n",
       "4        1518  1600  2011  \n",
       "5        1518  1606  2011  \n",
       "6        1362  1510  2011  \n",
       "7         891   959  2011  "
      ]
     },
     "execution_count": 4,
     "metadata": {},
     "output_type": "execute_result"
    }
   ],
   "source": [
    "# Print the first 8 records of daily_1 and daily_2\n",
    "daily_1.head(8)"
   ]
  },
  {
   "cell_type": "code",
   "execution_count": 5,
   "id": "58672e86",
   "metadata": {},
   "outputs": [
    {
     "data": {
      "text/html": [
       "<div>\n",
       "<style scoped>\n",
       "    .dataframe tbody tr th:only-of-type {\n",
       "        vertical-align: middle;\n",
       "    }\n",
       "\n",
       "    .dataframe tbody tr th {\n",
       "        vertical-align: top;\n",
       "    }\n",
       "\n",
       "    .dataframe thead th {\n",
       "        text-align: right;\n",
       "    }\n",
       "</style>\n",
       "<table border=\"1\" class=\"dataframe\">\n",
       "  <thead>\n",
       "    <tr style=\"text-align: right;\">\n",
       "      <th></th>\n",
       "      <th>day</th>\n",
       "      <th>season</th>\n",
       "      <th>weekday</th>\n",
       "      <th>workingday</th>\n",
       "      <th>weathersit</th>\n",
       "      <th>temp</th>\n",
       "      <th>windspeed</th>\n",
       "      <th>casual</th>\n",
       "      <th>registered</th>\n",
       "      <th>cnt</th>\n",
       "      <th>year</th>\n",
       "    </tr>\n",
       "  </thead>\n",
       "  <tbody>\n",
       "    <tr>\n",
       "      <th>0</th>\n",
       "      <td>360</td>\n",
       "      <td>1</td>\n",
       "      <td>1</td>\n",
       "      <td>0</td>\n",
       "      <td>1</td>\n",
       "      <td>0.321739</td>\n",
       "      <td>0.239465</td>\n",
       "      <td>430</td>\n",
       "      <td>887</td>\n",
       "      <td>1317</td>\n",
       "      <td>2011.0</td>\n",
       "    </tr>\n",
       "    <tr>\n",
       "      <th>1</th>\n",
       "      <td>361</td>\n",
       "      <td>1</td>\n",
       "      <td>2</td>\n",
       "      <td>1</td>\n",
       "      <td>2</td>\n",
       "      <td>0.325000</td>\n",
       "      <td>0.188450</td>\n",
       "      <td>103</td>\n",
       "      <td>1059</td>\n",
       "      <td>1162</td>\n",
       "      <td>2011.0</td>\n",
       "    </tr>\n",
       "    <tr>\n",
       "      <th>2</th>\n",
       "      <td>362</td>\n",
       "      <td>1</td>\n",
       "      <td>3</td>\n",
       "      <td>1</td>\n",
       "      <td>1</td>\n",
       "      <td>0.299130</td>\n",
       "      <td>0.293961</td>\n",
       "      <td>255</td>\n",
       "      <td>2047</td>\n",
       "      <td>2302</td>\n",
       "      <td>2011.0</td>\n",
       "    </tr>\n",
       "    <tr>\n",
       "      <th>3</th>\n",
       "      <td>363</td>\n",
       "      <td>1</td>\n",
       "      <td>4</td>\n",
       "      <td>1</td>\n",
       "      <td>1</td>\n",
       "      <td>0.248333</td>\n",
       "      <td>0.119412</td>\n",
       "      <td>254</td>\n",
       "      <td>2169</td>\n",
       "      <td>2423</td>\n",
       "      <td>2011.0</td>\n",
       "    </tr>\n",
       "    <tr>\n",
       "      <th>4</th>\n",
       "      <td>364</td>\n",
       "      <td>1</td>\n",
       "      <td>5</td>\n",
       "      <td>1</td>\n",
       "      <td>1</td>\n",
       "      <td>0.311667</td>\n",
       "      <td>0.134337</td>\n",
       "      <td>491</td>\n",
       "      <td>2508</td>\n",
       "      <td>2999</td>\n",
       "      <td>2011.0</td>\n",
       "    </tr>\n",
       "    <tr>\n",
       "      <th>5</th>\n",
       "      <td>365</td>\n",
       "      <td>1</td>\n",
       "      <td>6</td>\n",
       "      <td>0</td>\n",
       "      <td>1</td>\n",
       "      <td>0.410000</td>\n",
       "      <td>0.220154</td>\n",
       "      <td>665</td>\n",
       "      <td>1820</td>\n",
       "      <td>2485</td>\n",
       "      <td>2011.0</td>\n",
       "    </tr>\n",
       "    <tr>\n",
       "      <th>6</th>\n",
       "      <td>366</td>\n",
       "      <td>1</td>\n",
       "      <td>0</td>\n",
       "      <td>0</td>\n",
       "      <td>1</td>\n",
       "      <td>0.370000</td>\n",
       "      <td>0.192167</td>\n",
       "      <td>686</td>\n",
       "      <td>1608</td>\n",
       "      <td>2294</td>\n",
       "      <td>2012.0</td>\n",
       "    </tr>\n",
       "    <tr>\n",
       "      <th>7</th>\n",
       "      <td>367</td>\n",
       "      <td>1</td>\n",
       "      <td>1</td>\n",
       "      <td>0</td>\n",
       "      <td>1</td>\n",
       "      <td>0.273043</td>\n",
       "      <td>0.329665</td>\n",
       "      <td>244</td>\n",
       "      <td>1707</td>\n",
       "      <td>1951</td>\n",
       "      <td>2012.0</td>\n",
       "    </tr>\n",
       "  </tbody>\n",
       "</table>\n",
       "</div>"
      ],
      "text/plain": [
       "   day  season  weekday  workingday  weathersit      temp  windspeed  casual  \\\n",
       "0  360       1        1           0           1  0.321739   0.239465     430   \n",
       "1  361       1        2           1           2  0.325000   0.188450     103   \n",
       "2  362       1        3           1           1  0.299130   0.293961     255   \n",
       "3  363       1        4           1           1  0.248333   0.119412     254   \n",
       "4  364       1        5           1           1  0.311667   0.134337     491   \n",
       "5  365       1        6           0           1  0.410000   0.220154     665   \n",
       "6  366       1        0           0           1  0.370000   0.192167     686   \n",
       "7  367       1        1           0           1  0.273043   0.329665     244   \n",
       "\n",
       "   registered   cnt    year  \n",
       "0         887  1317  2011.0  \n",
       "1        1059  1162  2011.0  \n",
       "2        2047  2302  2011.0  \n",
       "3        2169  2423  2011.0  \n",
       "4        2508  2999  2011.0  \n",
       "5        1820  2485  2011.0  \n",
       "6        1608  2294  2012.0  \n",
       "7        1707  1951  2012.0  "
      ]
     },
     "execution_count": 5,
     "metadata": {},
     "output_type": "execute_result"
    }
   ],
   "source": [
    "daily_2.head(8)"
   ]
  },
  {
   "cell_type": "code",
   "execution_count": 6,
   "id": "63970316",
   "metadata": {},
   "outputs": [
    {
     "data": {
      "text/plain": [
       "day             int64\n",
       "season          int64\n",
       "weekday         int64\n",
       "workingday      int64\n",
       "weathersit      int64\n",
       "temp          float64\n",
       "windspeed     float64\n",
       "casual          int64\n",
       "registered      int64\n",
       "cnt             int64\n",
       "year            int64\n",
       "dtype: object"
      ]
     },
     "execution_count": 6,
     "metadata": {},
     "output_type": "execute_result"
    }
   ],
   "source": [
    "# Print the column names of daily_1 and daily_2\n",
    "\n",
    "daily_1.dtypes\n"
   ]
  },
  {
   "cell_type": "code",
   "execution_count": 7,
   "id": "40cd2f26",
   "metadata": {},
   "outputs": [
    {
     "data": {
      "text/plain": [
       "day             int64\n",
       "season          int64\n",
       "weekday         int64\n",
       "workingday      int64\n",
       "weathersit      int64\n",
       "temp          float64\n",
       "windspeed     float64\n",
       "casual          int64\n",
       "registered      int64\n",
       "cnt             int64\n",
       "year          float64\n",
       "dtype: object"
      ]
     },
     "execution_count": 7,
     "metadata": {},
     "output_type": "execute_result"
    }
   ],
   "source": [
    "daily_2.dtypes"
   ]
  },
  {
   "cell_type": "code",
   "execution_count": null,
   "id": "9ec43ec0",
   "metadata": {},
   "outputs": [],
   "source": [
    "# Is there consistency between the two datasets?\n",
    "#The variable names for both the datasets is same. \n",
    "#However, the data type for 'year' column is int in daily_1, and float in daily_2"
   ]
  },
  {
   "cell_type": "code",
   "execution_count": 8,
   "id": "21e1ce93",
   "metadata": {},
   "outputs": [],
   "source": [
    "# Create the new dataframe daily_concat\n",
    "daily_concat=pd.concat([daily_1,daily_2])"
   ]
  },
  {
   "cell_type": "markdown",
   "id": "8e1dbf6e",
   "metadata": {},
   "source": [
    "**Question 2: Data Preparation** \n",
    "- Drop all duplicated records. Save the result as a new dataframe: daily. How many records are dropped?\n",
    "- How many null values are there under each variable for dataframe: daily? Sort the null value counts from highest to lowest. \n",
    "- Read through the data description carefully. Is it okay to drop the variable(s) with null value?\n",
    "    - If so drop these columns from daily\n",
    "    - Use the argument inplace=True do .drop() to modify the dataframe daily directly (as opposed to returning a new dataframe)"
   ]
  },
  {
   "cell_type": "code",
   "execution_count": 9,
   "id": "74a1d495",
   "metadata": {},
   "outputs": [
    {
     "data": {
      "text/plain": [
       "0      False\n",
       "1      False\n",
       "2      False\n",
       "3      False\n",
       "4      False\n",
       "       ...  \n",
       "367    False\n",
       "368    False\n",
       "369    False\n",
       "370    False\n",
       "371    False\n",
       "Length: 737, dtype: bool"
      ]
     },
     "execution_count": 9,
     "metadata": {},
     "output_type": "execute_result"
    }
   ],
   "source": [
    "#Checking for the duplicated records in the combined dataframe \n",
    "daily_concat.duplicated()"
   ]
  },
  {
   "cell_type": "code",
   "execution_count": 10,
   "id": "f281444f",
   "metadata": {},
   "outputs": [
    {
     "name": "stdout",
     "output_type": "stream",
     "text": [
      "   day  season  weekday  workingday  weathersit      temp  windspeed  casual  \\\n",
      "0  360       1        1           0           1  0.321739   0.239465     430   \n",
      "1  361       1        2           1           2  0.325000   0.188450     103   \n",
      "2  362       1        3           1           1  0.299130   0.293961     255   \n",
      "3  363       1        4           1           1  0.248333   0.119412     254   \n",
      "4  364       1        5           1           1  0.311667   0.134337     491   \n",
      "5  365       1        6           0           1  0.410000   0.220154     665   \n",
      "\n",
      "   registered   cnt    year  \n",
      "0         887  1317  2011.0  \n",
      "1        1059  1162  2011.0  \n",
      "2        2047  2302  2011.0  \n",
      "3        2169  2423  2011.0  \n",
      "4        2508  2999  2011.0  \n",
      "5        1820  2485  2011.0  \n",
      "(6, 11)\n"
     ]
    }
   ],
   "source": [
    "#Saving duplicated rows in df daily_dp\n",
    "daily_dp=daily_concat[daily_concat.duplicated()]\n",
    "print(daily_dp)\n",
    "print(daily_dp.shape)"
   ]
  },
  {
   "cell_type": "code",
   "execution_count": 11,
   "id": "bb12b7c7",
   "metadata": {},
   "outputs": [
    {
     "data": {
      "text/plain": [
       "(737, 11)"
      ]
     },
     "execution_count": 11,
     "metadata": {},
     "output_type": "execute_result"
    }
   ],
   "source": [
    "#checking number of rows in dataset daily_concat\n",
    "daily_concat.shape"
   ]
  },
  {
   "cell_type": "code",
   "execution_count": 12,
   "id": "966e1f59",
   "metadata": {},
   "outputs": [],
   "source": [
    "# Create the dataframe daily which drops all duplicated records\n",
    "daily=daily_concat.drop_duplicates()"
   ]
  },
  {
   "cell_type": "code",
   "execution_count": 13,
   "id": "5a489c54",
   "metadata": {},
   "outputs": [
    {
     "data": {
      "text/plain": [
       "(731, 11)"
      ]
     },
     "execution_count": 13,
     "metadata": {},
     "output_type": "execute_result"
    }
   ],
   "source": [
    "#Checking number of rows in dataset daily_concat\n",
    "daily.shape"
   ]
  },
  {
   "cell_type": "code",
   "execution_count": 14,
   "id": "896b2879",
   "metadata": {},
   "outputs": [],
   "source": [
    "# How many records were dropped?\n",
    "#6 duplicate rows were dropped from the database"
   ]
  },
  {
   "cell_type": "code",
   "execution_count": 15,
   "id": "7fe7b793",
   "metadata": {},
   "outputs": [
    {
     "data": {
      "text/plain": [
       "year          363\n",
       "day             0\n",
       "season          0\n",
       "weekday         0\n",
       "workingday      0\n",
       "weathersit      0\n",
       "temp            0\n",
       "windspeed       0\n",
       "casual          0\n",
       "registered      0\n",
       "cnt             0\n",
       "dtype: int64"
      ]
     },
     "execution_count": 15,
     "metadata": {},
     "output_type": "execute_result"
    }
   ],
   "source": [
    "# Report the null values for each variable in dataframe daily in sorted order from highest to lowest\n",
    "daily.isnull().sum().sort_values(ascending=False)"
   ]
  },
  {
   "cell_type": "code",
   "execution_count": 16,
   "id": "34152d80",
   "metadata": {},
   "outputs": [],
   "source": [
    "#Dropping the index='year'\n",
    "daily.drop(columns='year',inplace=True)"
   ]
  },
  {
   "cell_type": "code",
   "execution_count": 17,
   "id": "88ad4000",
   "metadata": {},
   "outputs": [
    {
     "data": {
      "text/html": [
       "<div>\n",
       "<style scoped>\n",
       "    .dataframe tbody tr th:only-of-type {\n",
       "        vertical-align: middle;\n",
       "    }\n",
       "\n",
       "    .dataframe tbody tr th {\n",
       "        vertical-align: top;\n",
       "    }\n",
       "\n",
       "    .dataframe thead th {\n",
       "        text-align: right;\n",
       "    }\n",
       "</style>\n",
       "<table border=\"1\" class=\"dataframe\">\n",
       "  <thead>\n",
       "    <tr style=\"text-align: right;\">\n",
       "      <th></th>\n",
       "      <th>day</th>\n",
       "      <th>season</th>\n",
       "      <th>weekday</th>\n",
       "      <th>workingday</th>\n",
       "      <th>weathersit</th>\n",
       "      <th>temp</th>\n",
       "      <th>windspeed</th>\n",
       "      <th>casual</th>\n",
       "      <th>registered</th>\n",
       "      <th>cnt</th>\n",
       "    </tr>\n",
       "  </thead>\n",
       "  <tbody>\n",
       "    <tr>\n",
       "      <th>0</th>\n",
       "      <td>1</td>\n",
       "      <td>1</td>\n",
       "      <td>6</td>\n",
       "      <td>0</td>\n",
       "      <td>2</td>\n",
       "      <td>0.344167</td>\n",
       "      <td>0.160446</td>\n",
       "      <td>331</td>\n",
       "      <td>654</td>\n",
       "      <td>985</td>\n",
       "    </tr>\n",
       "    <tr>\n",
       "      <th>1</th>\n",
       "      <td>2</td>\n",
       "      <td>1</td>\n",
       "      <td>0</td>\n",
       "      <td>0</td>\n",
       "      <td>2</td>\n",
       "      <td>0.363478</td>\n",
       "      <td>0.248539</td>\n",
       "      <td>131</td>\n",
       "      <td>670</td>\n",
       "      <td>801</td>\n",
       "    </tr>\n",
       "    <tr>\n",
       "      <th>2</th>\n",
       "      <td>3</td>\n",
       "      <td>1</td>\n",
       "      <td>1</td>\n",
       "      <td>1</td>\n",
       "      <td>1</td>\n",
       "      <td>0.196364</td>\n",
       "      <td>0.248309</td>\n",
       "      <td>120</td>\n",
       "      <td>1229</td>\n",
       "      <td>1349</td>\n",
       "    </tr>\n",
       "    <tr>\n",
       "      <th>3</th>\n",
       "      <td>4</td>\n",
       "      <td>1</td>\n",
       "      <td>2</td>\n",
       "      <td>1</td>\n",
       "      <td>1</td>\n",
       "      <td>0.200000</td>\n",
       "      <td>0.160296</td>\n",
       "      <td>108</td>\n",
       "      <td>1454</td>\n",
       "      <td>1562</td>\n",
       "    </tr>\n",
       "    <tr>\n",
       "      <th>4</th>\n",
       "      <td>5</td>\n",
       "      <td>1</td>\n",
       "      <td>3</td>\n",
       "      <td>1</td>\n",
       "      <td>1</td>\n",
       "      <td>0.226957</td>\n",
       "      <td>0.186900</td>\n",
       "      <td>82</td>\n",
       "      <td>1518</td>\n",
       "      <td>1600</td>\n",
       "    </tr>\n",
       "    <tr>\n",
       "      <th>...</th>\n",
       "      <td>...</td>\n",
       "      <td>...</td>\n",
       "      <td>...</td>\n",
       "      <td>...</td>\n",
       "      <td>...</td>\n",
       "      <td>...</td>\n",
       "      <td>...</td>\n",
       "      <td>...</td>\n",
       "      <td>...</td>\n",
       "      <td>...</td>\n",
       "    </tr>\n",
       "    <tr>\n",
       "      <th>367</th>\n",
       "      <td>727</td>\n",
       "      <td>1</td>\n",
       "      <td>4</td>\n",
       "      <td>1</td>\n",
       "      <td>2</td>\n",
       "      <td>0.254167</td>\n",
       "      <td>0.350133</td>\n",
       "      <td>247</td>\n",
       "      <td>1867</td>\n",
       "      <td>2114</td>\n",
       "    </tr>\n",
       "    <tr>\n",
       "      <th>368</th>\n",
       "      <td>728</td>\n",
       "      <td>1</td>\n",
       "      <td>5</td>\n",
       "      <td>1</td>\n",
       "      <td>2</td>\n",
       "      <td>0.253333</td>\n",
       "      <td>0.155471</td>\n",
       "      <td>644</td>\n",
       "      <td>2451</td>\n",
       "      <td>3095</td>\n",
       "    </tr>\n",
       "    <tr>\n",
       "      <th>369</th>\n",
       "      <td>729</td>\n",
       "      <td>1</td>\n",
       "      <td>6</td>\n",
       "      <td>0</td>\n",
       "      <td>2</td>\n",
       "      <td>0.253333</td>\n",
       "      <td>0.124383</td>\n",
       "      <td>159</td>\n",
       "      <td>1182</td>\n",
       "      <td>1341</td>\n",
       "    </tr>\n",
       "    <tr>\n",
       "      <th>370</th>\n",
       "      <td>730</td>\n",
       "      <td>1</td>\n",
       "      <td>0</td>\n",
       "      <td>0</td>\n",
       "      <td>1</td>\n",
       "      <td>0.255833</td>\n",
       "      <td>0.350754</td>\n",
       "      <td>364</td>\n",
       "      <td>1432</td>\n",
       "      <td>1796</td>\n",
       "    </tr>\n",
       "    <tr>\n",
       "      <th>371</th>\n",
       "      <td>731</td>\n",
       "      <td>1</td>\n",
       "      <td>1</td>\n",
       "      <td>1</td>\n",
       "      <td>2</td>\n",
       "      <td>0.215833</td>\n",
       "      <td>0.154846</td>\n",
       "      <td>439</td>\n",
       "      <td>2290</td>\n",
       "      <td>2729</td>\n",
       "    </tr>\n",
       "  </tbody>\n",
       "</table>\n",
       "<p>731 rows × 10 columns</p>\n",
       "</div>"
      ],
      "text/plain": [
       "     day  season  weekday  workingday  weathersit      temp  windspeed  \\\n",
       "0      1       1        6           0           2  0.344167   0.160446   \n",
       "1      2       1        0           0           2  0.363478   0.248539   \n",
       "2      3       1        1           1           1  0.196364   0.248309   \n",
       "3      4       1        2           1           1  0.200000   0.160296   \n",
       "4      5       1        3           1           1  0.226957   0.186900   \n",
       "..   ...     ...      ...         ...         ...       ...        ...   \n",
       "367  727       1        4           1           2  0.254167   0.350133   \n",
       "368  728       1        5           1           2  0.253333   0.155471   \n",
       "369  729       1        6           0           2  0.253333   0.124383   \n",
       "370  730       1        0           0           1  0.255833   0.350754   \n",
       "371  731       1        1           1           2  0.215833   0.154846   \n",
       "\n",
       "     casual  registered   cnt  \n",
       "0       331         654   985  \n",
       "1       131         670   801  \n",
       "2       120        1229  1349  \n",
       "3       108        1454  1562  \n",
       "4        82        1518  1600  \n",
       "..      ...         ...   ...  \n",
       "367     247        1867  2114  \n",
       "368     644        2451  3095  \n",
       "369     159        1182  1341  \n",
       "370     364        1432  1796  \n",
       "371     439        2290  2729  \n",
       "\n",
       "[731 rows x 10 columns]"
      ]
     },
     "execution_count": 17,
     "metadata": {},
     "output_type": "execute_result"
    }
   ],
   "source": [
    "daily"
   ]
  },
  {
   "cell_type": "code",
   "execution_count": 18,
   "id": "5c50d60d",
   "metadata": {},
   "outputs": [],
   "source": [
    "# Is it okay to drop the variables with null values (double check data description)?\n",
    "\n",
    "# From the above results it is evident that the null values are present in the year column. \n",
    "# The year column is already a redundant column as we know the data is for the year 2011 and 2012. \n",
    "# This differentiation can be made from the day column.\n"
   ]
  },
  {
   "cell_type": "markdown",
   "id": "a2e53536",
   "metadata": {},
   "source": [
    "### For the remaining analysis use the dataframe daily\n",
    "\n",
    "**Question 3: Data Description** \n",
    "\n",
    "We have two years' data. Let us consider them separately. (Hint: you may want to use logical indexing for this problem. Based on data description, you can compare variable 'day' with benchmark 365 to determine which year a record belongs.)\n",
    "- Create and report summary statistics of all variables for records in year 2011. Keep all specifications default. \n",
    "- Create and report summary statistics of all variables for records in year 2012. Keep all specifications default.\n",
    "- We would like to compare the two summary statistics to obtain insights. What variables are interesting to look into? What do you learn by comparing the summary statistics of these variables? \n"
   ]
  },
  {
   "cell_type": "code",
   "execution_count": 19,
   "id": "19e3bc9b",
   "metadata": {},
   "outputs": [],
   "source": [
    "daily_y1=daily[daily['day']<=365]\n",
    "#Grouping categorical and quantitative variables separately\n",
    "\n",
    "#categorical='season', 'weekday', 'workingday', 'weathersit'\n",
    "cat=['season', 'weekday', 'workingday', 'weathersit']\n",
    "daily_y1_cat=daily_y1[cat]\n",
    "\n",
    "#quantitative='temp', 'windspeed', 'casual', 'registered','cnt'\n",
    "quant=['temp', 'windspeed', 'casual', 'registered','cnt']\n",
    "daily_y1_quant=daily_y1[quant]\n"
   ]
  },
  {
   "cell_type": "code",
   "execution_count": 20,
   "id": "f475909e",
   "metadata": {
    "scrolled": true
   },
   "outputs": [
    {
     "data": {
      "text/html": [
       "<div>\n",
       "<style scoped>\n",
       "    .dataframe tbody tr th:only-of-type {\n",
       "        vertical-align: middle;\n",
       "    }\n",
       "\n",
       "    .dataframe tbody tr th {\n",
       "        vertical-align: top;\n",
       "    }\n",
       "\n",
       "    .dataframe thead th {\n",
       "        text-align: right;\n",
       "    }\n",
       "</style>\n",
       "<table border=\"1\" class=\"dataframe\">\n",
       "  <thead>\n",
       "    <tr style=\"text-align: right;\">\n",
       "      <th></th>\n",
       "      <th>temp</th>\n",
       "      <th>windspeed</th>\n",
       "      <th>casual</th>\n",
       "      <th>registered</th>\n",
       "      <th>cnt</th>\n",
       "    </tr>\n",
       "  </thead>\n",
       "  <tbody>\n",
       "    <tr>\n",
       "      <th>count</th>\n",
       "      <td>365.000000</td>\n",
       "      <td>365.000000</td>\n",
       "      <td>365.000000</td>\n",
       "      <td>365.000000</td>\n",
       "      <td>365.000000</td>\n",
       "    </tr>\n",
       "    <tr>\n",
       "      <th>mean</th>\n",
       "      <td>0.486665</td>\n",
       "      <td>0.191403</td>\n",
       "      <td>677.402740</td>\n",
       "      <td>2728.358904</td>\n",
       "      <td>3405.761644</td>\n",
       "    </tr>\n",
       "    <tr>\n",
       "      <th>std</th>\n",
       "      <td>0.189596</td>\n",
       "      <td>0.076890</td>\n",
       "      <td>556.269121</td>\n",
       "      <td>1060.110413</td>\n",
       "      <td>1378.753666</td>\n",
       "    </tr>\n",
       "    <tr>\n",
       "      <th>min</th>\n",
       "      <td>0.059130</td>\n",
       "      <td>0.022392</td>\n",
       "      <td>9.000000</td>\n",
       "      <td>416.000000</td>\n",
       "      <td>431.000000</td>\n",
       "    </tr>\n",
       "    <tr>\n",
       "      <th>25%</th>\n",
       "      <td>0.325000</td>\n",
       "      <td>0.135583</td>\n",
       "      <td>222.000000</td>\n",
       "      <td>1730.000000</td>\n",
       "      <td>2132.000000</td>\n",
       "    </tr>\n",
       "    <tr>\n",
       "      <th>50%</th>\n",
       "      <td>0.479167</td>\n",
       "      <td>0.186900</td>\n",
       "      <td>614.000000</td>\n",
       "      <td>2915.000000</td>\n",
       "      <td>3740.000000</td>\n",
       "    </tr>\n",
       "    <tr>\n",
       "      <th>75%</th>\n",
       "      <td>0.656667</td>\n",
       "      <td>0.235075</td>\n",
       "      <td>871.000000</td>\n",
       "      <td>3632.000000</td>\n",
       "      <td>4586.000000</td>\n",
       "    </tr>\n",
       "    <tr>\n",
       "      <th>max</th>\n",
       "      <td>0.849167</td>\n",
       "      <td>0.507463</td>\n",
       "      <td>3065.000000</td>\n",
       "      <td>4614.000000</td>\n",
       "      <td>6043.000000</td>\n",
       "    </tr>\n",
       "  </tbody>\n",
       "</table>\n",
       "</div>"
      ],
      "text/plain": [
       "             temp   windspeed       casual   registered          cnt\n",
       "count  365.000000  365.000000   365.000000   365.000000   365.000000\n",
       "mean     0.486665    0.191403   677.402740  2728.358904  3405.761644\n",
       "std      0.189596    0.076890   556.269121  1060.110413  1378.753666\n",
       "min      0.059130    0.022392     9.000000   416.000000   431.000000\n",
       "25%      0.325000    0.135583   222.000000  1730.000000  2132.000000\n",
       "50%      0.479167    0.186900   614.000000  2915.000000  3740.000000\n",
       "75%      0.656667    0.235075   871.000000  3632.000000  4586.000000\n",
       "max      0.849167    0.507463  3065.000000  4614.000000  6043.000000"
      ]
     },
     "execution_count": 20,
     "metadata": {},
     "output_type": "execute_result"
    }
   ],
   "source": [
    "# Report summary statistics for the year 2011\n",
    "#For Quantitative variables \n",
    "daily_y1_quant.describe()"
   ]
  },
  {
   "cell_type": "code",
   "execution_count": 52,
   "id": "4552389a",
   "metadata": {},
   "outputs": [
    {
     "name": "stdout",
     "output_type": "stream",
     "text": [
      "3    25.75\n",
      "2    25.21\n",
      "1    24.66\n",
      "4    24.38\n",
      "Name: season, dtype: float64\n",
      "6    14.52\n",
      "0    14.25\n",
      "1    14.25\n",
      "2    14.25\n",
      "3    14.25\n",
      "4    14.25\n",
      "5    14.25\n",
      "Name: weekday, dtype: float64\n",
      "1    68.49\n",
      "0    31.51\n",
      "Name: workingday, dtype: float64\n",
      "1    61.92\n",
      "2    33.97\n",
      "3     4.11\n",
      "Name: weathersit, dtype: float64\n"
     ]
    }
   ],
   "source": [
    "#For Categorical variables \n",
    "for n in daily_y1_cat:\n",
    "    counts=daily_y1_cat[n].value_counts()\n",
    "    percentages = round(counts / len(daily_y1_cat) * 100, 2)\n",
    "    print(percentages)"
   ]
  },
  {
   "cell_type": "code",
   "execution_count": 24,
   "id": "862665c3",
   "metadata": {},
   "outputs": [],
   "source": [
    "# Report summary statistics for the year 2012\n",
    "daily_y2=daily[daily['day']>365]\n",
    "#Grouping categorical and quantitative variables separately\n",
    "\n",
    "#categorical='season', 'weekday', 'workingday', 'weathersit'\n",
    "cat=['season', 'weekday', 'workingday', 'weathersit']\n",
    "daily_y2_cat=daily_y2[cat]\n",
    "\n",
    "#quantitative='temp', 'windspeed', 'casual', 'registered','cnt'\n",
    "quant=['temp', 'windspeed', 'casual', 'registered','cnt']\n",
    "daily_y2_quant=daily_y2[quant]"
   ]
  },
  {
   "cell_type": "code",
   "execution_count": 25,
   "id": "ba630d73",
   "metadata": {},
   "outputs": [
    {
     "data": {
      "text/html": [
       "<div>\n",
       "<style scoped>\n",
       "    .dataframe tbody tr th:only-of-type {\n",
       "        vertical-align: middle;\n",
       "    }\n",
       "\n",
       "    .dataframe tbody tr th {\n",
       "        vertical-align: top;\n",
       "    }\n",
       "\n",
       "    .dataframe thead th {\n",
       "        text-align: right;\n",
       "    }\n",
       "</style>\n",
       "<table border=\"1\" class=\"dataframe\">\n",
       "  <thead>\n",
       "    <tr style=\"text-align: right;\">\n",
       "      <th></th>\n",
       "      <th>temp</th>\n",
       "      <th>windspeed</th>\n",
       "      <th>casual</th>\n",
       "      <th>registered</th>\n",
       "      <th>cnt</th>\n",
       "    </tr>\n",
       "  </thead>\n",
       "  <tbody>\n",
       "    <tr>\n",
       "      <th>count</th>\n",
       "      <td>366.000000</td>\n",
       "      <td>366.000000</td>\n",
       "      <td>366.000000</td>\n",
       "      <td>366.000000</td>\n",
       "      <td>366.000000</td>\n",
       "    </tr>\n",
       "    <tr>\n",
       "      <th>mean</th>\n",
       "      <td>0.504081</td>\n",
       "      <td>0.189572</td>\n",
       "      <td>1018.483607</td>\n",
       "      <td>4581.450820</td>\n",
       "      <td>5599.934426</td>\n",
       "    </tr>\n",
       "    <tr>\n",
       "      <th>std</th>\n",
       "      <td>0.176112</td>\n",
       "      <td>0.078194</td>\n",
       "      <td>758.989897</td>\n",
       "      <td>1424.331846</td>\n",
       "      <td>1788.667868</td>\n",
       "    </tr>\n",
       "    <tr>\n",
       "      <th>min</th>\n",
       "      <td>0.107500</td>\n",
       "      <td>0.046650</td>\n",
       "      <td>2.000000</td>\n",
       "      <td>20.000000</td>\n",
       "      <td>22.000000</td>\n",
       "    </tr>\n",
       "    <tr>\n",
       "      <th>25%</th>\n",
       "      <td>0.347708</td>\n",
       "      <td>0.133721</td>\n",
       "      <td>429.750000</td>\n",
       "      <td>3730.500000</td>\n",
       "      <td>4369.000000</td>\n",
       "    </tr>\n",
       "    <tr>\n",
       "      <th>50%</th>\n",
       "      <td>0.514167</td>\n",
       "      <td>0.174750</td>\n",
       "      <td>904.500000</td>\n",
       "      <td>4776.500000</td>\n",
       "      <td>5927.000000</td>\n",
       "    </tr>\n",
       "    <tr>\n",
       "      <th>75%</th>\n",
       "      <td>0.653959</td>\n",
       "      <td>0.231196</td>\n",
       "      <td>1262.000000</td>\n",
       "      <td>5663.000000</td>\n",
       "      <td>7011.250000</td>\n",
       "    </tr>\n",
       "    <tr>\n",
       "      <th>max</th>\n",
       "      <td>0.861667</td>\n",
       "      <td>0.441563</td>\n",
       "      <td>3410.000000</td>\n",
       "      <td>6946.000000</td>\n",
       "      <td>8714.000000</td>\n",
       "    </tr>\n",
       "  </tbody>\n",
       "</table>\n",
       "</div>"
      ],
      "text/plain": [
       "             temp   windspeed       casual   registered          cnt\n",
       "count  366.000000  366.000000   366.000000   366.000000   366.000000\n",
       "mean     0.504081    0.189572  1018.483607  4581.450820  5599.934426\n",
       "std      0.176112    0.078194   758.989897  1424.331846  1788.667868\n",
       "min      0.107500    0.046650     2.000000    20.000000    22.000000\n",
       "25%      0.347708    0.133721   429.750000  3730.500000  4369.000000\n",
       "50%      0.514167    0.174750   904.500000  4776.500000  5927.000000\n",
       "75%      0.653959    0.231196  1262.000000  5663.000000  7011.250000\n",
       "max      0.861667    0.441563  3410.000000  6946.000000  8714.000000"
      ]
     },
     "execution_count": 25,
     "metadata": {},
     "output_type": "execute_result"
    }
   ],
   "source": [
    "# Report summary statistics for the year 2012\n",
    "daily_y2_quant.describe()"
   ]
  },
  {
   "cell_type": "code",
   "execution_count": 50,
   "id": "b634bce0",
   "metadata": {
    "scrolled": true
   },
   "outputs": [
    {
     "name": "stdout",
     "output_type": "stream",
     "text": [
      "3    25.68\n",
      "2    25.14\n",
      "1    24.86\n",
      "4    24.32\n",
      "Name: season, dtype: float64\n",
      "0    14.48\n",
      "1    14.48\n",
      "2    14.21\n",
      "3    14.21\n",
      "4    14.21\n",
      "5    14.21\n",
      "6    14.21\n",
      "Name: weekday, dtype: float64\n",
      "1    68.31\n",
      "0    31.69\n",
      "Name: workingday, dtype: float64\n",
      "1    64.75\n",
      "2    33.61\n",
      "3     1.64\n",
      "Name: weathersit, dtype: float64\n"
     ]
    }
   ],
   "source": [
    "for n in daily_y2_cat:\n",
    "    counts=daily_y2_cat[n].value_counts()\n",
    "    percentages = round(counts / len(daily_y2_cat) * 100, 2)\n",
    "    print(percentages)\n"
   ]
  },
  {
   "cell_type": "code",
   "execution_count": null,
   "id": "2332b6ea",
   "metadata": {},
   "outputs": [],
   "source": [
    "# Discuss your insights from these summary statistics.\n",
    "\n",
    "#In general we can say that the company has a greater number of registered users as compared to casual users.\n",
    "#There was not a single day when the company had 0 users (Customers)\n",
    "#The number of users (Casual and Registered) have gone up significantly from the year 2011 to 2012\n",
    "#For the column workingday we see that majority are working days.\n",
    "#We see maximum number of days are clear or partly cloudy \n",
    "\n"
   ]
  },
  {
   "cell_type": "markdown",
   "id": "4994c8bd",
   "metadata": {},
   "source": [
    "**Question 4: Compare Distributions**\n",
    "\n",
    "Use overlapped histograms to compare the distributions of registered and casual checkouts. \n",
    "- For registered checkouts, let number of bins be 15, and color be -b- (blue). \n",
    "- For casual checkouts, let number of bins be 8, and color be -r- (red). \n",
    "- Let transparency be 0.7 for both histograms. Include appropriate labels for x-axis and y-axis. Also include appropriate legends.\n",
    "- What insights can you get?"
   ]
  },
  {
   "cell_type": "code",
   "execution_count": 53,
   "id": "d4169fac",
   "metadata": {},
   "outputs": [
    {
     "data": {
      "text/plain": [
       "<matplotlib.legend.Legend at 0x11a1d0123d0>"
      ]
     },
     "execution_count": 53,
     "metadata": {},
     "output_type": "execute_result"
    },
    {
     "data": {
      "image/png": "[encoded data removed]",
      "text/plain": [
       "<Figure size 432x288 with 1 Axes>"
      ]
     },
     "metadata": {
      "needs_background": "light"
     },
     "output_type": "display_data"
    }
   ],
   "source": [
    "# Create the overlapped histogram plot\n",
    "## Overlapped Histogram \n",
    "# Logical Indexing: \n",
    "registered_chk=daily.loc[:,'registered']\n",
    "\n",
    "casual_chk=daily.loc[:, 'casual']\n",
    "\n",
    "# Plots\n",
    "plt.hist(registered_chk, bins=15, color='b', label='Registered Checkouts', alpha=0.7)\n",
    "plt.hist(casual_chk, bins=8, color='r', label='Casual Checkouts', alpha=0.7)\n",
    "plt.xlabel('Total Checkouts')\n",
    "plt.ylabel('Frequency')\n",
    "plt.legend()"
   ]
  },
  {
   "cell_type": "code",
   "execution_count": 60,
   "id": "c21ac4b9",
   "metadata": {},
   "outputs": [
    {
     "name": "stdout",
     "output_type": "stream",
     "text": [
      "20\n",
      "6946\n"
     ]
    }
   ],
   "source": [
    "print(registered_chk.min())\n",
    "print(registered_chk.max())\n"
   ]
  },
  {
   "cell_type": "code",
   "execution_count": 58,
   "id": "b19e718a",
   "metadata": {},
   "outputs": [
    {
     "name": "stdout",
     "output_type": "stream",
     "text": [
      "3410\n",
      "2\n"
     ]
    }
   ],
   "source": [
    "print(casual_chk.max())\n",
    "print(casual_chk.min())\n"
   ]
  },
  {
   "cell_type": "code",
   "execution_count": null,
   "id": "5c418d1a",
   "metadata": {},
   "outputs": [],
   "source": [
    "# Discuss your insights\n",
    "#From the above two normal curves we make make the following observations:\n",
    "\n",
    "#Casual Checkouts\n",
    "#1. The distribution of  Casual Checkouts ranges from '2' to max of '3410' per day.\n",
    "#2. Distribution is skewed to the right\n",
    "\n",
    "#Registered Checkouts\n",
    "#1. The distribution of  registered Checkouts from '20' to max of '6946' per day.\n",
    "#2. Distribution is approximately normally distributed. This suggests there are more registered users who use bike sharing\n",
    "#system regularly than casual users, suggesting the registered users makeup the majority of the customers\n"
   ]
  },
  {
   "cell_type": "markdown",
   "id": "ab107e94",
   "metadata": {},
   "source": [
    "**Question 5: Boxplot** \n",
    "\n",
    "From question 4, we have found that although the distribution of registered and casual users differ significantly, each distribution seems to be unimodal (one peak).  Thus, boxplots can be informative in this case.\n",
    "\n",
    "- Create a boxplot to show the registered number of checkouts under different weathersit and workingday. What insights do you get?\n",
    "- Create a boxplot to show the casual number of checkouts under different weathersit and workingday. What insights do you get?\n",
    "- Based on the figures, do registered users and casual users behave differently? If yes, can you provide some intuitions behind this?\n",
    "- *Hint: Use sns.boxplot() for this problem. To consider two different category groups, we use parameter 'hue'. Specifically, set x to weathersit, and hue to workingday.*"
   ]
  },
  {
   "cell_type": "code",
   "execution_count": 81,
   "id": "8f4241df",
   "metadata": {},
   "outputs": [
    {
     "data": {
      "text/plain": [
       "Text(0.5, 1.0, 'Boxplot of registered #of checkouts under diff weathersit and workingday ')"
      ]
     },
     "execution_count": 81,
     "metadata": {},
     "output_type": "execute_result"
    },
    {
     "data": {
      "image/png": "[encoded data removed]",
      "text/plain": [
       "<Figure size 432x288 with 1 Axes>"
      ]
     },
     "metadata": {
      "needs_background": "light"
     },
     "output_type": "display_data"
    }
   ],
   "source": [
    "# Boxplot for registered checkouts under different workingday\n",
    "sns.boxplot(data = daily, x = 'weathersit',  y = 'registered', hue='workingday', showmeans = True)\n",
    "plt.title('Boxplot of registered #of checkouts under diff weathersit and workingday ')\n",
    "#Discuss Insights\n",
    "#From the output we can highlight a few points as:\n",
    "#If the weather is clear we can see more numbers of customers compared to when the wheather is misty, and least when\n",
    "#the weather is snow\n",
    "#The number of customers is larger on a working day compared to when it is not a working day"
   ]
  },
  {
   "cell_type": "code",
   "execution_count": 82,
   "id": "e098cc07",
   "metadata": {},
   "outputs": [
    {
     "data": {
      "text/plain": [
       "Text(0.5, 1.0, 'Boxplot of casual #of checkouts under diff weathersit and workingday ')"
      ]
     },
     "execution_count": 82,
     "metadata": {},
     "output_type": "execute_result"
    },
    {
     "data": {
      "image/png": "[encoded data removed]",
      "text/plain": [
       "<Figure size 432x288 with 1 Axes>"
      ]
     },
     "metadata": {
      "needs_background": "light"
     },
     "output_type": "display_data"
    }
   ],
   "source": [
    "# Boxplot for casual checkouts under different workingday\n",
    "sns.boxplot(data = daily, x = 'weathersit',  y = 'casual', hue='workingday', showmeans = True)\n",
    "plt.title('Boxplot of casual #of checkouts under diff weathersit and workingday ')\n",
    "# Discuss insights\n",
    "#From the output we can highlight a few points as:\n",
    "#Simila to the registered users if the weather is clear clear we can see more numbers of customers compared to when the wheather is misty, and least when\n",
    "#the weather is snow\n",
    "#The number of customers is smaller on a working day compared to when it is a working day"
   ]
  },
  {
   "cell_type": "code",
   "execution_count": null,
   "id": "6152fe49",
   "metadata": {},
   "outputs": [],
   "source": [
    "# Based on the plots, do registered and casual users behave differently?  What is some intuition for your response?\n",
    "#Yes it is clear from the above two plots that registered and casual users behave differently:\n",
    "#1. Registered users tend to use the serive on a working day while the casual users tend to use the servies on  a non working day.\n",
    "#2. We can say that the registered users comprise of more number of office goers\n"
   ]
  },
  {
   "cell_type": "markdown",
   "id": "10792d5d",
   "metadata": {},
   "source": [
    "**Question 6: Explore Relationships with Multidimensional Information.** \n",
    "- Create a scatter plot  of the daily count of bikes that were checked out by **casual/non-registered** users (y) against the temperature (x). \n",
    "- Set the color based on whether it is a working day. Set the transparency to 0.7. \n",
    "- Include appropriate labels for x-axis and y-axis, and colorbar. *Hint: use plt.colorbar(ticks = [0,1]) to change the ticks.*\n",
    "- What insights can you get?"
   ]
  },
  {
   "cell_type": "code",
   "execution_count": 84,
   "id": "7ee32203",
   "metadata": {},
   "outputs": [
    {
     "data": {
      "text/plain": [
       "<matplotlib.colorbar.Colorbar at 0x11a1eac39a0>"
      ]
     },
     "execution_count": 84,
     "metadata": {},
     "output_type": "execute_result"
    },
    {
     "data": {
      "image/png": "[encoded data removed]",
      "text/plain": [
       "<Figure size 432x288 with 2 Axes>"
      ]
     },
     "metadata": {
      "needs_background": "light"
     },
     "output_type": "display_data"
    }
   ],
   "source": [
    "# Create the scatter plot\n",
    "# Scatter plot with color\n",
    "plt.scatter(x=daily['temp'], y=daily['casual'], c=daily['workingday'], cmap='coolwarm', alpha=0.7)\n",
    "\n",
    "plt.xlabel('temperature')\n",
    "plt.ylabel('Count Casual Users')\n",
    "\n",
    "plt.colorbar(ticks=[0,1], label='Working Day')\n",
    "# Discuss your insights\n",
    "#We can see that there is a positive correlation between temperature and the number of bikes checked out by casual/non-registered users.\n",
    "#As the temperature increases, more bikes are checked out.\n",
    "#the plot shows that on non working days (represented by blue points), there is a greater number of bikes\n"
   ]
  },
  {
   "cell_type": "markdown",
   "id": "574fdd49",
   "metadata": {},
   "source": [
    "## Part 2 - Social Network\n",
    "\n",
    "For this part we will carry out some rudimentary social network analysis.  To start let's understand how we can represent (some aspects of) a social network in Python.  Dictionaries are a good tool for this.  Let's look at the example below.\n"
   ]
  },
  {
   "cell_type": "code",
   "execution_count": 71,
   "id": "c888d131",
   "metadata": {},
   "outputs": [],
   "source": [
    "example_network = {'Alice': ['Bob', 'Cheryl', 'Daniel'], \n",
    "                   'Bob': ['Alice', 'Daniel'], \n",
    "                   'Cheryl': ['Alice'], \n",
    "                   'Daniel': ['Alice', 'Bob']}"
   ]
  },
  {
   "cell_type": "markdown",
   "id": "1fa4711c",
   "metadata": {},
   "source": [
    "Here in example_network there are 4 users - Alice, Bob, Cheryl, and Daniel - which are the keys in our dictionary.  The values corresponding to each key is a list of their friends (other users/keys in the dictionary).  Here we think of the network as being *undirected* - if x is a friend of y, then y must also be a friend of x.  This represents social networks like Facebook where friendship is reciprocal.  Other networks where you \"follow\" users (but that does not entail the other users \"follow\" you would be represented by a *directed* network.  We can visualize the above network as follows:\n",
    "<img src=\"data:image/png;base64,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\" width = \"30%\" height = \"30%\"/>"
   ]
  },
  {
   "cell_type": "markdown",
   "id": "68ae11ec",
   "metadata": {},
   "source": [
    "Real world networks often display interesting characteristics that are different from many popular models for network generation.  In particular, we will explore the distribution of *degrees*, that is the number of friends of each user in the network.  The following code will load in a real world network derived from a social networking site (courtesy of the Stanford Network Analysis Project).  The users/nodes in the network represent pages and corresponding pages are connected/friends with each other if they link to each other.  Run the code below to load the network into a dictionary as in the example.  Note how many web pages are in the network and how many connections there are."
   ]
  },
  {
   "cell_type": "code",
   "execution_count": 72,
   "id": "69e1c424",
   "metadata": {},
   "outputs": [
    {
     "name": "stdout",
     "output_type": "stream",
     "text": [
      "Number of users/pages =  36999\n",
      "Number of connections =  171002\n"
     ]
    }
   ],
   "source": [
    "def load_network(filename):\n",
    "    # Initialize the dictionary\n",
    "    network = {}\n",
    "    with open(filename) as network_file:\n",
    "        # The first line of the file is a header, which we can skip\n",
    "        header = network_file.readline()\n",
    "        # counter variable for number of connections\n",
    "        num_connections = 0\n",
    "        for line in network_file:\n",
    "            # Each line is of the form \"id1,id2\"\n",
    "            # We can get each id by splitting along the comma\n",
    "            values = line.split(',') \n",
    "            u = values[0]\n",
    "            v = values[1]\n",
    "            if u not in network:\n",
    "                network[u] = [v]\n",
    "            else:\n",
    "                network[u].append(v)\n",
    "            if v not in network:\n",
    "                network[v] = [u]\n",
    "            else:\n",
    "                network[v].append(u)\n",
    "                \n",
    "            # Update num_connections\n",
    "            num_connections += 1\n",
    "    return network, num_connections\n",
    "\n",
    "network, num_connections = load_network('network_edges.csv')\n",
    "\n",
    "print(\"Number of users/pages = \", len(network.keys()))\n",
    "print(\"Number of connections = \", num_connections)"
   ]
  },
  {
   "cell_type": "markdown",
   "id": "03306f02",
   "metadata": {},
   "source": [
    "**Question 7: Compute the Degree Distribution** \n",
    "The degree of a user in a network is its number of friends.  Let's write a function to aggregate this information.\n",
    "\n",
    "- Write a function called compute_degrees which takes in a network as a parameter/argument.  \n",
    "    - You may assume that network is a dictionary formatted as example_network above (but potentially larger and with different keys).  Error handling is not necessary.\n",
    "    - The output of the function should either be a dictionary or a numpy array containing the degree of each user in the input network.\n",
    "        - If you use a dictionary, then each user is a key and its corresponding value is its degree.\n",
    "    - For the input example_network above we should have the following output:\n",
    "        - If using a dictionary: {'Alice': 3, 'Bob':2, 'Cheryl':1, 'Daniel':2}\n",
    "        - If using a numpy array: array([3, 2, 1, 2]) (although for our purposes the order doesn't matter)\n",
    "        - You can use example_network to check your code"
   ]
  },
  {
   "cell_type": "code",
   "execution_count": 73,
   "id": "488659a3",
   "metadata": {},
   "outputs": [],
   "source": [
    "# Write the function compute_degrees\n",
    "def compute_degrees(network):\n",
    "    my_dict={}\n",
    "    for values in network:\n",
    "        my_dict[values]=len(network[values])\n",
    "    return my_dict\n"
   ]
  },
  {
   "cell_type": "code",
   "execution_count": 74,
   "id": "f55ce251",
   "metadata": {},
   "outputs": [
    {
     "name": "stdout",
     "output_type": "stream",
     "text": [
      "{'Alice': 3, 'Bob': 2, 'Cheryl': 1, 'Daniel': 2}\n"
     ]
    }
   ],
   "source": [
    "print(compute_degrees(example_network))"
   ]
  },
  {
   "cell_type": "markdown",
   "id": "6aa7bb68",
   "metadata": {},
   "source": [
    "**Question 8: Visualize using a Histogram** \n",
    "\n",
    "- Apply the function you wrote from the previous part to get the degree distribution of the network we loaded above.\n",
    "- Create a histogram (with proper axis labels) of the degree distribution.\n",
    "    - Set the number of bins to 15\n",
    "- Now create a new dictionary/numpy array which instead stores the logarithm of the degree distribution and create a histogram for this.  Use the same settings as before.  Remember to properly label the axes.\n",
    "    - Feel free to use base 2, base e, or base 10 for the logarithm\n",
    "- Do you have any insights about the degree distribution versus when we took the logarithm?  Discuss these."
   ]
  },
  {
   "cell_type": "code",
   "execution_count": 75,
   "id": "5a523f9e",
   "metadata": {},
   "outputs": [],
   "source": [
    "# Apply the function to get the degree distribution\n",
    "dict_network=compute_degrees(network)\n"
   ]
  },
  {
   "cell_type": "code",
   "execution_count": 79,
   "id": "963e3b2f",
   "metadata": {},
   "outputs": [
    {
     "data": {
      "text/plain": [
       "Text(0, 0.5, 'Frequency')"
      ]
     },
     "execution_count": 79,
     "metadata": {},
     "output_type": "execute_result"
    },
    {
     "data": {
      "image/png": "[encoded data removed]",
      "text/plain": [
       "<Figure size 432x288 with 1 Axes>"
      ]
     },
     "metadata": {
      "needs_background": "light"
     },
     "output_type": "display_data"
    }
   ],
   "source": [
    "# Create a histogram of the degree distribution\n",
    "x=dict_network.keys()\n",
    "y=dict_network.values()\n",
    "# Create a histogram\n",
    "plt.hist(y, bins=15, color='b', alpha=0.7)\n",
    "\n",
    "# Set the title and labels\n",
    "plt.title(\"Network Distribution \")\n",
    "plt.xlabel(\"Connections\")\n",
    "plt.ylabel(\"Frequency\")\n"
   ]
  },
  {
   "cell_type": "code",
   "execution_count": 90,
   "id": "202d0baf",
   "metadata": {},
   "outputs": [
    {
     "data": {
      "text/plain": [
       "[Text(0.5, 0, 'Degree of Users'), Text(0, 0.5, 'Frequency')]"
      ]
     },
     "execution_count": 90,
     "metadata": {},
     "output_type": "execute_result"
    },
    {
     "data": {
      "image/png": "[encoded data removed]",
      "text/plain": [
       "<Figure size 432x288 with 1 Axes>"
      ]
     },
     "metadata": {
      "needs_background": "light"
     },
     "output_type": "display_data"
    }
   ],
   "source": [
    "# Take the logarithm of the degree distribution and create a histogram for this\n",
    "log_y = [np.log(i) for i in y]\n",
    "fig = sns.histplot(log_y, bins = 15 )\n",
    "fig.set(xlabel = 'Degree of Users', ylabel = 'Frequency')"
   ]
  },
  {
   "cell_type": "code",
   "execution_count": null,
   "id": "7ef18b90",
   "metadata": {},
   "outputs": [],
   "source": [
    "# Discuss your insights\n",
    "#Comparing the above data and both the histograms, taking the logarithm of a normal distribution is useful, as in this case\n",
    "#we are dealing with variables that span a wide range of values. \n",
    "\n",
    "#From the above histogram we can see the curve id skewed to the right meaning there are more people with fewer number of connections (degree)\n",
    "#and as the degree increases the frequency goes down \n",
    "\n",
    "#Overall, taking the logarithm of a normally distributed variable can be a useful tool for data analysis \n",
    "#and can help to make the data more manageable and easier to work with,\n",
    "#particularly when dealing with variables that span a wide range of values.\n"
   ]
  }
 ],
 "metadata": {
  "kernelspec": {
   "display_name": "Python 3 (ipykernel)",
   "language": "python",
   "name": "python3"
  },
  "language_info": {
   "codemirror_mode": {
    "name": "ipython",
    "version": 3
   },
   "file_extension": ".py",
   "mimetype": "text/x-python",
   "name": "python",
   "nbconvert_exporter": "python",
   "pygments_lexer": "ipython3",
   "version": "3.9.12"
  }
 },
 "nbformat": 4,
 "nbformat_minor": 5
}
